{
 "cells": [
  {
   "cell_type": "code",
   "execution_count": 1,
   "id": "b426047b",
   "metadata": {},
   "outputs": [],
   "source": [
    "import logging as log\n",
    "import nbimporter\n",
    "import pandas as pd\n",
    "import import_ipynb as ipynb\n",
    "import contentGenerator as main\n"
   ]
  },
  {
   "cell_type": "code",
   "execution_count": 26,
   "id": "1d58554f",
   "metadata": {},
   "outputs": [
    {
     "name": "stdout",
     "output_type": "stream",
     "text": [
      "Assertion successful\n"
     ]
    }
   ],
   "source": [
    "def test_meansort(sortedData):\n",
    "    sortedData = main.meansort(\"Age\", sortedData[[\"Name\", \"Age\"]])\n",
    "    return sortedData\n",
    "\n",
    "data = {'Name':['Tom', 'nick', 'krish', 'Sam'], 'Age':[5.1, 10.4, 19.7, 50.4]}\n",
    "df = pd.DataFrame(data)\n",
    "sortedData = test_meansort(df)\n",
    "assert(['Sam', 50.4] == sortedData[0])\n",
    "print(\"Assertion successful\")"
   ]
  },
  {
   "cell_type": "code",
   "execution_count": 21,
   "id": "407e2262",
   "metadata": {
    "scrolled": true
   },
   "outputs": [
    {
     "name": "stdout",
     "output_type": "stream",
     "text": [
      "Identify bucket for attribut =  winter low Attribute Buckets =  ['top25%', 'middle50%', 'bottom25%'] CityRank for the attribute =  125\n",
      "Rank =  125 Unique rank count =  151 range 37.75 precent 25\n",
      "Identify bucket for attribut =  winter low Attribute Buckets =  ['top25%', 'middle50%', 'bottom25%'] CityRank for the attribute =  125\n",
      "Identify bucket for attribut =  winter low Attribute Buckets =  ['top25%', 'middle50%', 'bottom25%'] CityRank for the attribute =  125\n",
      "rank 125 endRank =  37.75 endRank =  37.75 columnRankCount 151 difference check 113.25\n",
      "\n",
      "Key = bottom25% \n",
      "\n",
      "Identify bucket for attribut =  population Attribute Buckets =  ['top10', 'top25%', 'middle50%', 'bottom25%'] CityRank for the attribute =  1\n",
      "\n",
      "Key = top10 \n",
      "\n",
      "Identify bucket for attribut =  population Attribute Buckets =  ['top10', 'top25%', 'middle50%', 'bottom25%'] CityRank for the attribute =  138\n",
      "Identify bucket for attribut =  population Attribute Buckets =  ['top10', 'top25%', 'middle50%', 'bottom25%'] CityRank for the attribute =  138\n",
      "Rank =  138 Unique rank count =  257 range 64.25 precent 25\n",
      "Identify bucket for attribut =  population Attribute Buckets =  ['top10', 'top25%', 'middle50%', 'bottom25%'] CityRank for the attribute =  138\n",
      "Identify bucket for attribut =  population Attribute Buckets =  ['top10', 'top25%', 'middle50%', 'bottom25%'] CityRank for the attribute =  138\n",
      "rank 138 endRank =  64.25 endRank =  64.25 columnRankCount 257 difference check 192.75\n",
      "\n",
      "Key =  \n",
      "\n",
      "Identify bucket for attribut =  population Attribute Buckets =  ['top10', 'top25%', 'middle50%', 'bottom25%'] CityRank for the attribute =  240\n",
      "Identify bucket for attribut =  population Attribute Buckets =  ['top10', 'top25%', 'middle50%', 'bottom25%'] CityRank for the attribute =  240\n",
      "Rank =  240 Unique rank count =  257 range 64.25 precent 25\n",
      "Identify bucket for attribut =  population Attribute Buckets =  ['top10', 'top25%', 'middle50%', 'bottom25%'] CityRank for the attribute =  240\n",
      "Identify bucket for attribut =  population Attribute Buckets =  ['top10', 'top25%', 'middle50%', 'bottom25%'] CityRank for the attribute =  240\n",
      "rank 240 endRank =  64.25 endRank =  64.25 columnRankCount 257 difference check 192.75\n",
      "\n",
      "Key = bottom25% \n",
      "\n",
      "Identify bucket for attribut =  air quality Attribute Buckets =  ['0-50', '51-100', '101-150', '151-200', '201-300', '301-500'] CityRank for the attribute =  100\n",
      "\n",
      "Key = 51-100 \n",
      "\n",
      "Identify bucket for attribut =  air quality Attribute Buckets =  ['0-50', '51-100', '101-150', '151-200', '201-300', '301-500'] CityRank for the attribute =  250\n",
      "\n",
      "Key = 201-300 \n",
      "\n",
      "Identify bucket for attribut =  air quality Attribute Buckets =  ['0-50', '51-100', '101-150', '151-200', '201-300', '301-500'] CityRank for the attribute =  150\n",
      "\n",
      "Key = 101-150 \n",
      "\n",
      "Identify bucket for attribut =  school_record Attribute Buckets =  ['top25%', 'middle50%', 'bottom25%'] CityRank for the attribute =  99\n",
      "Rank =  99 Unique rank count =  99 range 24.75 precent 25\n",
      "Identify bucket for attribut =  school_record Attribute Buckets =  ['top25%', 'middle50%', 'bottom25%'] CityRank for the attribute =  99\n",
      "Identify bucket for attribut =  school_record Attribute Buckets =  ['top25%', 'middle50%', 'bottom25%'] CityRank for the attribute =  99\n",
      "rank 99 endRank =  24.75 endRank =  24.75 columnRankCount 99 difference check 74.25\n",
      "\n",
      "Key = bottom25% \n",
      "\n",
      "Identify bucket for attribut =  school_record Attribute Buckets =  ['top25%', 'middle50%', 'bottom25%'] CityRank for the attribute =  1\n",
      "Rank =  1 Unique rank count =  99 range 24.75 precent 25\n",
      "Identify bucket for attribut =  school_record Attribute Buckets =  ['top25%', 'middle50%', 'bottom25%'] CityRank for the attribute =  1\n",
      "Identify bucket for attribut =  school_record Attribute Buckets =  ['top25%', 'middle50%', 'bottom25%'] CityRank for the attribute =  1\n",
      "rank 1 endRank =  24.75 endRank =  24.75 columnRankCount 99 difference check 74.25\n",
      "\n",
      "Key = top25% \n",
      "\n",
      "Identify bucket for attribut =  school_record Attribute Buckets =  ['top25%', 'middle50%', 'bottom25%'] CityRank for the attribute =  50\n",
      "Rank =  50 Unique rank count =  99 range 24.75 precent 25\n",
      "Identify bucket for attribut =  school_record Attribute Buckets =  ['top25%', 'middle50%', 'bottom25%'] CityRank for the attribute =  50\n",
      "Identify bucket for attribut =  school_record Attribute Buckets =  ['top25%', 'middle50%', 'bottom25%'] CityRank for the attribute =  50\n",
      "rank 50 endRank =  24.75 endRank =  24.75 columnRankCount 99 difference check 74.25\n",
      "\n",
      "Key = middle50% \n",
      "\n",
      "Identify bucket for attribut =  Housing Index Attribute Buckets =  ['top25%', 'middle50%', 'bottom25%'] CityRank for the attribute =  23\n",
      "Rank =  23 Unique rank count =  146 range 36.5 precent 25\n",
      "Identify bucket for attribut =  Housing Index Attribute Buckets =  ['top25%', 'middle50%', 'bottom25%'] CityRank for the attribute =  23\n",
      "Identify bucket for attribut =  Housing Index Attribute Buckets =  ['top25%', 'middle50%', 'bottom25%'] CityRank for the attribute =  23\n",
      "rank 23 endRank =  36.5 endRank =  36.5 columnRankCount 146 difference check 109.5\n",
      "\n",
      "Key = top25% \n",
      "\n",
      "Identify bucket for attribut =  Housing Index Attribute Buckets =  ['top25%', 'middle50%', 'bottom25%'] CityRank for the attribute =  75\n",
      "Rank =  75 Unique rank count =  146 range 36.5 precent 25\n",
      "Identify bucket for attribut =  Housing Index Attribute Buckets =  ['top25%', 'middle50%', 'bottom25%'] CityRank for the attribute =  75\n",
      "Identify bucket for attribut =  Housing Index Attribute Buckets =  ['top25%', 'middle50%', 'bottom25%'] CityRank for the attribute =  75\n",
      "rank 75 endRank =  36.5 endRank =  36.5 columnRankCount 146 difference check 109.5\n",
      "\n",
      "Key = middle50% \n",
      "\n",
      "Identify bucket for attribut =  Housing Index Attribute Buckets =  ['top25%', 'middle50%', 'bottom25%'] CityRank for the attribute =  125\n",
      "Rank =  125 Unique rank count =  146 range 36.5 precent 25\n",
      "Identify bucket for attribut =  Housing Index Attribute Buckets =  ['top25%', 'middle50%', 'bottom25%'] CityRank for the attribute =  125\n",
      "Identify bucket for attribut =  Housing Index Attribute Buckets =  ['top25%', 'middle50%', 'bottom25%'] CityRank for the attribute =  125\n",
      "rank 125 endRank =  36.5 endRank =  36.5 columnRankCount 146 difference check 109.5\n",
      "\n",
      "Key = bottom25% \n",
      "\n",
      "Identify bucket for attribut =  Housing Index Attribute Buckets =  ['top25%', 'middle50%', 'bottom25%'] CityRank for the attribute =  125\n",
      "Rank =  125 Unique rank count =  146 range 36.5 precent 25\n",
      "Identify bucket for attribut =  Housing Index Attribute Buckets =  ['top25%', 'middle50%', 'bottom25%'] CityRank for the attribute =  125\n",
      "Identify bucket for attribut =  Housing Index Attribute Buckets =  ['top25%', 'middle50%', 'bottom25%'] CityRank for the attribute =  125\n",
      "rank 125 endRank =  36.5 endRank =  36.5 columnRankCount 146 difference check 109.5\n",
      "\n",
      "Key = bottom25% \n",
      "\n",
      "Identify bucket for attribut =  poverty rate Attribute Buckets =  ['bottom25%'] CityRank for the attribute =  1\n",
      "rank 1 endRank =  36.5 endRank =  36.5 columnRankCount 146 difference check 109.5\n",
      "\n",
      "Key =  \n",
      "\n",
      "Identify bucket for attribut =  poverty rate Attribute Buckets =  ['bottom25%'] CityRank for the attribute =  100\n",
      "rank 100 endRank =  36.5 endRank =  36.5 columnRankCount 146 difference check 109.5\n",
      "\n",
      "Key =  \n",
      "\n",
      "Identify bucket for attribut =  poverty rate Attribute Buckets =  ['bottom25%'] CityRank for the attribute =  133\n",
      "rank 133 endRank =  36.5 endRank =  36.5 columnRankCount 146 difference check 109.5\n",
      "\n",
      "Key = bottom25% \n",
      "\n"
     ]
    }
   ],
   "source": [
    "myDict = {'air quality': ['yes', 'FALSE', 'B'], 'avg. rainfall per year (mm)': ['yes', 'N/A', 'C'], 'avg. snow per year (mm)': ['yes', 'N/A', 'C'], 'commute time (min)': ['yes', 'FALSE', 'A'], 'density': ['yes', 'N/A', 'B'], 'expend, per student': ['top', 'TRUE', 'C'], 'GDP': ['yes', 'TRUE', 'B'], 'Good&service index': ['yes', 'TRUE', 'A'], 'Grocery Index': ['yes', 'TRUE', 'A'], 'Healthcare index': ['yes', 'TRUE', 'A'], 'Housing Index': ['yes', 'TRUE', 'A'], '2019 job opportunity': ['yes', 'TRUE', 'A'], 'median age': ['bottom', 'N/A', 'C'], 'median home value': ['yes', 'FALSE', 'B'], 'median home value growth percentage': ['N/A', 'N/A', 'B'], 'median household income': ['N/A', 'TRUE', 'B'], 'population': ['yes', 'N/A', 'A'], 'population growth percentage': ['N/A', 'N/A', 'B'], 'poverty rate': ['yes', 'FALSE', 'B'], 'school_record': ['top', 'TRUE', 'C'], 'six figure household percentage': ['N/A', 'TRUE', 'C'], 'summer high': ['yes', 'N/A', 'C'], 'unemployment rate': ['bottom', 'FALSE', 'B'], 'Utilities index': ['yes', 'TRUE', 'A'], 'winter low': ['yes', 'N/A', 'C']}\n",
    "def test_fetchKey(att, bucetList, rank, myDict):\n",
    "    cityData = pd.read_csv(\"cityData.csv\")\n",
    "    res = main.fetchkey(cityData, att, bucetList, rank, myDict)\n",
    "    print(\"\\nKey =\", res, \"\\n\")\n",
    "    return res\n",
    "\n",
    "# For neutral metrix if the rank falls in the middle bucket then key returned should be empty string\n",
    "assert(test_fetchKey(\"winter low\", [\"top25%\", \"middle50%\", \"bottom25%\"], 125, myDict) == \"bottom25%\")\n",
    "assert(test_fetchKey(\"population\", [\"top10\",\"top25%\",\"middle50%\",\"bottom25%\"], 1, myDict) == \"top10\")\n",
    "assert(test_fetchKey(\"population\", [\"top10\",\"top25%\",\"middle50%\",\"bottom25%\"], 138, myDict) == \"\")\n",
    "assert(test_fetchKey(\"population\", [\"top10\",\"top25%\",\"middle50%\",\"bottom25%\"], 240, myDict) == \"bottom25%\")\n",
    "assert(test_fetchKey(\"air quality\", [\"0-50\",\"51-100\",\"101-150\",\"151-200\",\"201-300\",\"301-500\"], 100, myDict) == \"51-100\")\n",
    "assert(test_fetchKey(\"air quality\", [\"0-50\",\"51-100\",\"101-150\",\"151-200\",\"201-300\",\"301-500\"], 250, myDict) == \"201-300\")\n",
    "assert(test_fetchKey(\"air quality\", [\"0-50\",\"51-100\",\"101-150\",\"151-200\",\"201-300\",\"301-500\"], 150, myDict) == \"101-150\")\n",
    "assert(test_fetchKey(\"school_record\", [\"top25%\", \"middle50%\", \"bottom25%\"], 99, myDict) == \"bottom25%\")\n",
    "assert(test_fetchKey(\"school_record\", [\"top25%\", \"middle50%\", \"bottom25%\"], 1, myDict) == \"top25%\")\n",
    "assert(test_fetchKey(\"school_record\", [\"top25%\", \"middle50%\", \"bottom25%\"], 50, myDict) == \"middle50%\")\n",
    "assert(test_fetchKey(\"Housing Index\", [\"top25%\", \"middle50%\", \"bottom25%\"], 23, myDict) == \"top25%\")\n",
    "assert(test_fetchKey(\"Housing Index\", [\"top25%\", \"middle50%\", \"bottom25%\"], 75, myDict) == \"middle50%\")\n",
    "assert(test_fetchKey(\"Housing Index\", [\"top25%\", \"middle50%\", \"bottom25%\"], 125, myDict) == \"bottom25%\")\n",
    "assert(test_fetchKey(\"Housing Index\", [\"top25%\", \"middle50%\", \"bottom25%\"], 125, myDict) == \"bottom25%\")\n",
    "assert(test_fetchKey(\"poverty rate\", [\"bottom25%\"], 1, myDict) == \"\")\n",
    "assert(test_fetchKey(\"poverty rate\", [\"bottom25%\"], 100, myDict) == \"\")\n",
    "assert(test_fetchKey(\"poverty rate\", [\"bottom25%\"], 133, myDict) == \"bottom25%\")\n",
    "print(\"Assertion Successful\")\n",
    "\n",
    "\n",
    "\n",
    "\n"
   ]
  },
  {
   "cell_type": "code",
   "execution_count": 9,
   "id": "13e9e24a",
   "metadata": {},
   "outputs": [
    {
     "name": "stdout",
     "output_type": "stream",
     "text": [
      "Assertion Successful\n"
     ]
    }
   ],
   "source": [
    "def test_numToOrdinal(num):\n",
    "    return main.numToOrdinal(num)\n",
    "\n",
    "assert(test_numToOrdinal(1) == \"1st\")\n",
    "assert(test_numToOrdinal(2) == \"2nd\")\n",
    "assert(test_numToOrdinal(3) == \"3rd\")\n",
    "assert(test_numToOrdinal(4) == \"4th\")\n",
    "assert(test_numToOrdinal(10) == \"10th\")\n",
    "assert(test_numToOrdinal(23) == \"23rd\")\n",
    "assert(test_numToOrdinal(42) == \"42nd\")\n",
    "\n",
    "print(\"Assertion Successful\")"
   ]
  },
  {
   "cell_type": "code",
   "execution_count": 29,
   "id": "5fc33a28",
   "metadata": {},
   "outputs": [
    {
     "name": "stdout",
     "output_type": "stream",
     "text": [
      "Assertion Successful\n"
     ]
    }
   ],
   "source": [
    "def test_numberFormat(num):\n",
    "    return main.numberFormat(num)\n",
    "\n",
    "assert(test_numberFormat(100) == \"100\")\n",
    "assert(test_numberFormat(1000) == \"1,000\")\n",
    "assert(test_numberFormat(10000) == \"10,000\")\n",
    "assert(test_numberFormat(1000000) == \"1,000,000\")\n",
    "assert(test_numberFormat(123456789) == \"123,456,789\")\n",
    "print(\"Assertion Successful\")"
   ]
  },
  {
   "cell_type": "code",
   "execution_count": 8,
   "id": "1a1522f3",
   "metadata": {},
   "outputs": [
    {
     "name": "stdout",
     "output_type": "stream",
     "text": [
      "25\n",
      "{'air quality': ['yes', 'FALSE', 'B'], 'avg. rainfall per year (inch)': ['yes', 'N/A', 'C'], 'avg. snow per year (inch)': ['yes', 'N/A', 'C'], 'commute time (min)': ['yes', 'FALSE', 'A'], 'density': ['yes', 'N/A', 'B'], 'expend, per student': ['top', 'TRUE', 'C'], 'GDP': ['yes', 'TRUE', 'B'], 'Good&service index': ['yes', 'TRUE', 'A'], 'Grocery Index': ['yes', 'TRUE', 'A'], 'Healthcare index': ['yes', 'TRUE', 'A'], 'Housing Index': ['yes', 'TRUE', 'A'], '2019 job opportunity': ['yes', 'TRUE', 'A'], 'median age': ['bottom', 'N/A', 'C'], 'median home value': ['yes', 'FALSE', 'B'], 'median home value growth percentage': ['N/A', 'N/A', 'B'], 'median household income': ['N/A', 'TRUE', 'B'], 'population': ['yes', 'N/A', 'A'], 'population growth percentage': ['N/A', 'N/A', 'B'], 'poverty rate': ['yes', 'FALSE', 'B'], 'school_record': ['top', 'TRUE', 'C'], 'six figure household percentage': ['N/A', 'TRUE', 'C'], 'summer high': ['yes', 'N/A', 'C'], 'unemployment rate': ['bottom', 'FALSE', 'B'], 'Utilities index': ['yes', 'TRUE', 'A'], 'winter low': ['yes', 'N/A', 'C']}\n",
      "_+_+_+_+_+_ method called +_+_+_+_+_\n"
     ]
    }
   ],
   "source": [
    "cityData = main.readAiContentData()\n",
    "cityData[\"avg. rainfall per year (inch)\"].fillna(value=cityData[\"avg. rainfall per year (inch)\"].mean(), inplace=True)\n",
    "def test_createRankColumns():\n",
    "    _, neutralListMap = main.createRankColumns(cityData)\n",
    "    return neutralListMap\n",
    "\n",
    "neutralListMap = test_createRankColumns()\n",
    "assert(cityData[cityData[\"population_rank\"] == 1][\"city\"].values[0] == \"New York\" )\n",
    "assert(neutralListMap[\"avg. rainfall per year (inch)\"][0][0] == \"Juneau\")\n",
    "assert(neutralListMap[\"summer high\"][0][0] == \"Juneau\")\n",
    "assert(cityData[cityData[\"air quality_rank\"] == 1][\"city\"].values[0] == \"Dodge City\")\n",
    "assert(neutralListMap[\"density\"][0][0] == \"Manhattan\")\n",
    "assert(neutralListMap[\"median age\"][0][0] == \"Hilton Head Island\")\n",
    "assert(cityData[cityData[\"Housing Index_rank\"] == 1][\"city\"].values[0] == \"Arlington\")\n",
    "assert(cityData[cityData[\"2019 job opportunity_rank\"] == 1][\"city\"].values[0] == \"New York\")\n",
    "assert(cityData[cityData[\"poverty rate_rank\"] == 1][\"city\"].values[0] == \"Bethesda\")\n",
    "\n",
    "\n",
    "# print(neutralListMap[\"avg. rainfall per year (inch)\"])"
   ]
  },
  {
   "cell_type": "code",
   "execution_count": null,
   "id": "12a50acc",
   "metadata": {},
   "outputs": [],
   "source": []
  }
 ],
 "metadata": {
  "kernelspec": {
   "display_name": "Python 3 (ipykernel)",
   "language": "python",
   "name": "python3"
  },
  "language_info": {
   "codemirror_mode": {
    "name": "ipython",
    "version": 3
   },
   "file_extension": ".py",
   "mimetype": "text/x-python",
   "name": "python",
   "nbconvert_exporter": "python",
   "pygments_lexer": "ipython3",
   "version": "3.9.7"
  }
 },
 "nbformat": 4,
 "nbformat_minor": 5
}
