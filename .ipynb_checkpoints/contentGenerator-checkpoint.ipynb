{
 "cells": [
  {
   "cell_type": "code",
   "execution_count": 1,
   "id": "a10e599c",
   "metadata": {},
   "outputs": [],
   "source": [
    "import io\n",
    "import re\n",
    "import csv\n",
    "import time\n",
    "import xlwt\n",
    "import yaml\n",
    "import math\n",
    "import random\n",
    "import numpy as np\n",
    "import pandas as pd\n",
    "from xlwt import Workbook\n",
    "from datetime import datetime, date"
   ]
  },
  {
   "cell_type": "code",
   "execution_count": 2,
   "id": "f99d4b62",
   "metadata": {},
   "outputs": [],
   "source": [
    "def readAiContentData():\n",
    "    cityData = pd.read_csv(\"cityData.csv\")\n",
    "    return cityData"
   ]
  },
  {
   "cell_type": "code",
   "execution_count": 3,
   "id": "fd54c112",
   "metadata": {},
   "outputs": [],
   "source": [
    "# Dump Data to yaml \n",
    "content = pd.read_csv(\"OpeningParagraphTest.csv\")\n",
    "header = [\"related_metric\", \"data_ranking\",\"Python Copy\"]\n",
    "orderList = [\"\"]*len(header)\n",
    "dumpData = {}\n",
    "    \n",
    "for j in range(len(content)):\n",
    "    ai_content = content.loc[j,header].values.flatten().tolist()\n",
    "    for i in range(len(ai_content)):\n",
    "        try: \n",
    "            if math.isnan(ai_content[i]):\n",
    "                ai_content[i] = \"\"\n",
    "        except:\n",
    "            orderList[i] = ai_content[i]\n",
    "        if ai_content[i] != \"\" and i != len(orderList) - 1:\n",
    "            if i == 0:\n",
    "                dumpData[orderList[i]] = {}\n",
    "                key = orderList[i]\n",
    "                continue\n",
    "            dumpData[key].update({orderList[i]: ai_content[i + 1]})\n",
    "\n",
    "\n",
    "with open(r'content.yml', 'w') as file:\n",
    "    documents = yaml.dump(dumpData, file)\n",
    "\n"
   ]
  },
  {
   "cell_type": "code",
   "execution_count": 4,
   "id": "b7da3694",
   "metadata": {
    "scrolled": false
   },
   "outputs": [],
   "source": [
    "# Create the dictionary and create ranking columns\n",
    "def meansort(attribute ,attributeList):\n",
    "    columnMean = round(attributeList[attribute].mean(),2)\n",
    "    x = attributeList.reset_index()[attributeList.columns].values.tolist()\n",
    "    return sorted(x, key=lambda x: abs(x[1] - columnMean), reverse = True)\n",
    "\n",
    "\n",
    "def createRankColumns(cityData):\n",
    "    count = 0\n",
    "    neutralListMap = {}\n",
    "    mydict = {}\n",
    "\n",
    "    \n",
    "    with open('RankingConfigTest.csv', mode='r') as infile:\n",
    "        reader = csv.reader(infile)\n",
    "        next(reader)\n",
    "        mydict = {rows[0].strip():[rows[1], rows[2], rows[3]] for rows in reader}\n",
    "        infile.close()\n",
    "    print(len(mydict))\n",
    "    print(mydict)\n",
    "\n",
    "    matrixList = cityData.iloc[:, 5:55]\n",
    "    for attribute in matrixList.columns:\n",
    "        count+=1\n",
    "        if (attribute in mydict.keys()) and (mydict[attribute.strip()][0] != \"N/A\"):\n",
    "            cityData[attribute+\"_rank\"] = cityData[attribute].rank(ascending = mydict[attribute][1] == \"FALSE\", method=\"dense\")\n",
    "            if mydict[attribute][1] == \"N/A\":\n",
    "                cityData[attribute].fillna(value=cityData[attribute].mean(), inplace=True)\n",
    "#                 cityData[attribute+\"_rank\"] = cityData[attribute].rank(ascending = mydict[attribute][1] == \"FALSE\")\n",
    "                neutralListMap[attribute] = meansort(attribute, cityData[[\"city\", attribute]])\n",
    "    return mydict, neutralListMap\n",
    "# print(neutralListMap[\"avg. rainfall per year (mm)\"])\n",
    "\n"
   ]
  },
  {
   "cell_type": "code",
   "execution_count": 5,
   "id": "aede6043",
   "metadata": {},
   "outputs": [],
   "source": [
    "# cityData[[\"city\",\"avg. rainfall per year (mm)_rank\"]]"
   ]
  },
  {
   "cell_type": "code",
   "execution_count": 6,
   "id": "e0140b59",
   "metadata": {},
   "outputs": [],
   "source": [
    "# Given the attribute, buckets corresponding to the attribue and the city ranking corresponding to the attribute identify the bucket the data falls in\n",
    "\n",
    "def fetchkey(cityData, att, bucketList, rank, mydict):\n",
    "    bucketList = list(bucketList)\n",
    "    res = \"\".join([i for i in bucketList if \"middle\" in i])\n",
    "    op = \"\"\n",
    "    flag = True\n",
    "    for i in range(len(bucketList)):\n",
    "        print(\"Identify bucket for attribut = \", att, \"Attribute Buckets = \", bucketList, \"CityRank for the attribute = \",rank)\n",
    "        if att == \"air quality\":\n",
    "            return fetchAirQualityKey(rank)\n",
    "        if not bucketList[i].endswith(\"%\"):\n",
    "            if int(rank) < 10:\n",
    "                return bucketList[i]\n",
    "#             else:\n",
    "#                 return bucketList[i]\n",
    "        else:\n",
    "            if (res != \"\" and flag and mydict[att][1] != \"N/A\"):\n",
    "                flag = False\n",
    "                op = res\n",
    "            if bucketList[i].startswith(\"top\"):\n",
    "                percentCheck = bucketList[i].replace(\"top\", \"\").replace(\"%\", \"\")\n",
    "                columnRankCount = cityData[att].nunique()\n",
    "                endRank = (int(percentCheck)/100)*columnRankCount\n",
    "                print(\"Rank = \",rank, \"Unique rank count = \", columnRankCount,\"range\", endRank,\"precent\", percentCheck)\n",
    "                if rank <= endRank:\n",
    "                    op = bucketList[i]\n",
    "            elif(bucketList[i].startswith(\"bottom\")):\n",
    "                percentCheck = bucketList[i].replace(\"bottom\", \"\").replace(\"%\", \"\")\n",
    "                columnRankCount = cityData[att].nunique()\n",
    "                endRank = (int(percentCheck)/100)*columnRankCount\n",
    "                print(\"rank\", rank, \"endRank = \", endRank, \"endRank = \", endRank, \"columnRankCount\", columnRankCount, \"difference check\", columnRankCount - endRank)\n",
    "                if (rank >= (columnRankCount - endRank)):\n",
    "                    op = bucketList[i]\n",
    "    return op\n",
    "                \n",
    "def fetchAirQualityKey(rank):\n",
    "    if rank >= 1 and rank <=50:\n",
    "        return \"0-50\"\n",
    "    if rank >= 51 and rank <=100:\n",
    "        return \"51-100\"\n",
    "    if rank >= 101 and rank <=150:\n",
    "        return \"101-150\"\n",
    "    if rank >= 151 and rank <=200:\n",
    "        return \"151-200\"\n",
    "    if rank >= 201 and rank <=300:\n",
    "        return \"201-300\"\n",
    "    if rank >= 301 and rank <= 500:\n",
    "        return \"301-500\"\n",
    "    "
   ]
  },
  {
   "cell_type": "code",
   "execution_count": 7,
   "id": "860d1945",
   "metadata": {},
   "outputs": [],
   "source": [
    "\n",
    "def replace(city, stateId, att, sentence, rank):\n",
    "    print(\"From replace\")\n",
    "    sentence = sentence.replace(\"{rank}\", numToOrdinal(rank))\n",
    "    sentence = sentence.replace(\"{inverse_rank}\", numToOrdinal(cityData[att+\"_rank\"].nunique() - rank))\n",
    "    print(\"From replace\")\n",
    "    keywordList = re.findall(\"[{][\\w.,$&-/(/)/\\s]{0,}[}]\", sentence)\n",
    "    print(keywordList)\n",
    "    for keyword in keywordList:\n",
    "        print(\"keyword is this\", keyword)\n",
    "        dataToReplace = cityData[np.logical_and(cityData[\"city\"] == city, cityData[\"state_id\"] == stateId)][keyword[1:-1]].values[0]\n",
    "        print(\"*****************\", dataToReplace)\n",
    "        if not isinstance(dataToReplace, str):\n",
    "            dataToReplace = numberFormat(dataToReplace)\n",
    "        if \"$\" in keyword:\n",
    "            dataToReplace = \"$\" + dataToReplace\n",
    "        sentence = sentence.replace(keyword, dataToReplace)\n",
    "    return sentence\n",
    "\n",
    "def numberFormat(num):\n",
    "    if not isinstance(num, float):\n",
    "        num = str(\"{:,}\".format(int(num)))\n",
    "    else:\n",
    "        num = (\"{:,}\".format(num)).rstrip(\"0\").rstrip(\".\")\n",
    "    return num\n",
    "\n",
    "def numToOrdinal(value):\n",
    "    if value % 100//10 != 1:\n",
    "        if value % 10 == 1:\n",
    "            ordval = u\"%d%s\" % (value, \"st\")\n",
    "        elif value % 10 == 2:\n",
    "            ordval = u\"%d%s\" % (value, \"nd\")\n",
    "        elif value % 10 == 3:\n",
    "            ordval = u\"%d%s\" % (value, \"rd\")\n",
    "        else:\n",
    "            ordval = u\"%d%s\" % (value, \"th\")\n",
    "    else:\n",
    "        ordval = u\"%d%s\" % (value, \"th\")\n",
    "\n",
    "    return ordval\n",
    "\n"
   ]
  },
  {
   "cell_type": "code",
   "execution_count": 8,
   "id": "05bf275f",
   "metadata": {},
   "outputs": [],
   "source": [
    "def fetchSentences(city, stateId, att, rank, key, descriptionData):\n",
    "    print(\"key to check from the yaml for attribute = \", att,\" and key = \", key)\n",
    "    sentenceList = descriptionData[att][key].split(\"|\")\n",
    "    sentence = random.choice(sentenceList)\n",
    "    sentence = replace(city, stateId, att ,sentence, rank)  \n",
    "    return sentence"
   ]
  },
  {
   "cell_type": "code",
   "execution_count": 9,
   "id": "cb34e1d6",
   "metadata": {},
   "outputs": [],
   "source": [
    "def generateParagraph(city, stateId, metricRankList, cityParagraph, mydict):\n",
    "    cityParagraph = \"\"\n",
    "    bucketKeyList = []\n",
    "    with open(\"content.yml\") as file:\n",
    "        descriptionData = yaml.full_load(file)\n",
    "    for i in range(len(metricRankList)):\n",
    "        if math.isnan(metricRankList[i][1]):\n",
    "            continue\n",
    "        key = fetchkey(cityData, metricRankList[i][0], descriptionData[metricRankList[i][0]].keys(), metricRankList[i][1], mydict)\n",
    "        if key != \"\":\n",
    "            res = fetchSentences(city, stateId, metricRankList[i][0], metricRankList[i][1], key, descriptionData)\n",
    "            print(\"\\n\", \"Random sentence that was choosen \", res, \"\\n\")\n",
    "            bucketKeyList.append(key)\n",
    "#             cityParagraph += res.strip() + \" \"\n",
    "            cityParagraph += res.replace(\"\\n\", \"\") + \" \" \n",
    "            res =\"\"\n",
    "#                 res =\"\"\n",
    "    return cityParagraph, bucketKeyList"
   ]
  },
  {
   "cell_type": "code",
   "execution_count": 10,
   "id": "9b897e1e",
   "metadata": {
    "scrolled": false
   },
   "outputs": [
    {
     "name": "stdout",
     "output_type": "stream",
     "text": [
      "25\n",
      "{'air quality': ['yes', 'FALSE', 'B'], 'avg. rainfall per year (inch)': ['yes', 'N/A', 'C'], 'avg. snow per year (inch)': ['yes', 'N/A', 'C'], 'commute time (min)': ['yes', 'FALSE', 'A'], 'density': ['yes', 'N/A', 'B'], 'expend, per student $': ['top', 'TRUE', 'C'], 'GDP': ['yes', 'TRUE', 'B'], 'Good&service index': ['yes', 'TRUE', 'A'], 'Grocery Index': ['yes', 'TRUE', 'A'], 'Healthcare index': ['yes', 'TRUE', 'A'], 'Housing Index': ['yes', 'TRUE', 'A'], '2019 job opportunity_normalized': ['yes', 'TRUE', 'A'], 'median age': ['bottom', 'N/A', 'C'], 'median home value': ['yes', 'FALSE', 'B'], 'median home value growth percentage': ['N/A', 'N/A', 'B'], 'median household income': ['N/A', 'TRUE', 'B'], 'population': ['yes', 'N/A', 'A'], 'population growth percentage': ['N/A', 'N/A', 'B'], 'poverty rate': ['yes', 'FALSE', 'B'], 'school_record_normalized': ['top', 'TRUE', 'C'], 'six figure household percentage': ['yes', 'TRUE', 'C'], 'summer high': ['yes', 'N/A', 'C'], 'unemployment rate': ['bottom', 'FALSE', 'B'], 'Utilities index': ['yes', 'TRUE', 'A'], 'winter low': ['yes', 'N/A', 'C']}\n",
      "^^^^^^^^^^^^^^^ 2019 population growth rate\n",
      "^^^^^^^^^^^^^^^ summer avg temp F\n",
      "^^^^^^^^^^^^^^^ winter avg temp F\n",
      "^^^^^^^^^^^^^^^ population_rank\n",
      "^^^^^^^^^^^^^^^ median age_rank\n",
      "^^^^^^^^^^^^^^^ unemployment rate_rank\n",
      "^^^^^^^^^^^^^^^ 2019 job opportunity_normalized_rank\n",
      "^^^^^^^^^^^^^^^ poverty rate_rank\n",
      "^^^^^^^^^^^^^^^ summer high_rank\n",
      "^^^^^^^^^^^^^^^ winter low_rank\n",
      "^^^^^^^^^^^^^^^ avg. rainfall per year (inch)_rank\n",
      "^^^^^^^^^^^^^^^ avg. snow per year (inch)_rank\n",
      "^^^^^^^^^^^^^^^ school_record_normalized_rank\n",
      "^^^^^^^^^^^^^^^ expend, per student $_rank\n",
      "^^^^^^^^^^^^^^^ commute time (min)_rank\n",
      "^^^^^^^^^^^^^^^ air quality_rank\n",
      "^^^^^^^^^^^^^^^ GDP_rank\n",
      "^^^^^^^^^^^^^^^ Grocery Index_rank\n",
      "^^^^^^^^^^^^^^^ Housing Index_rank\n",
      "^^^^^^^^^^^^^^^ Utilities index_rank\n",
      "^^^^^^^^^^^^^^^ Healthcare index_rank\n",
      "^^^^^^^^^^^^^^^ Good&service index_rank\n",
      "^^^^^^^^^^^^^^^ density_rank\n",
      "\n",
      " ----------------------------------- Lists ----------------------------------------------- \n",
      "\n",
      "City in consideration Abilene TX\n",
      "Fixed List [('2019 job opportunity_normalized', 150.0)]\n",
      "Pos List [('school_record_normalized', 51.0), ('expend, per student $', 196.0), ('GDP', 13.0), ('Grocery Index', 22.0), ('Housing Index', 83.0), ('Utilities index', 3.0), ('Healthcare index', 27.0), ('Good&service index', 24.0)]\n",
      "Neg List [('unemployment rate', 10.0), ('poverty rate', 54.0), ('commute time (min)', 14.0)]\n",
      "Neu List [('population', 138), ('median age', 100), ('summer high', 28), ('winter low', 155), ('avg. rainfall per year (inch)', 124), ('avg. snow per year (inch)', 125), ('density', 69)]\n",
      "\n",
      " ----------------------------------- Lists ----------------------------------------------- \n",
      "\n",
      "\n",
      " Final list of attributes \n",
      " [('2019 job opportunity_normalized', 150.0), ('Utilities index', 3.0), ('GDP', 13.0), ('unemployment rate', 10.0), ('summer high', 28)] \n",
      "\n",
      "\n",
      "\n",
      " Final list of attributes \n",
      " [('2019 job opportunity_normalized', 150.0), ('Utilities index', 3.0), ('GDP', 13.0), ('unemployment rate', 10.0), ('summer high', 9.0)] \n",
      "\n",
      "\n",
      "Identify bucket for attribut =  2019 job opportunity_normalized Attribute Buckets =  ['bottom25%', 'middle50%', 'top25%'] CityRank for the attribute =  150.0\n",
      "rank 150.0 endRank =  45.5 endRank =  45.5 columnRankCount 182 difference check 136.5\n",
      "Identify bucket for attribut =  2019 job opportunity_normalized Attribute Buckets =  ['bottom25%', 'middle50%', 'top25%'] CityRank for the attribute =  150.0\n",
      "Identify bucket for attribut =  2019 job opportunity_normalized Attribute Buckets =  ['bottom25%', 'middle50%', 'top25%'] CityRank for the attribute =  150.0\n",
      "Rank =  150.0 Unique rank count =  182 range 45.5 precent 25\n",
      "key to check from the yaml for attribute =  2019 job opportunity_normalized  and key =  bottom25%\n",
      "From replace\n",
      "From replace\n",
      "['{city}', '{2019 job opportunity}']\n",
      "keyword is this {city}\n",
      "***************** Abilene\n",
      "keyword is this {2019 job opportunity}\n",
      "***************** 66510.0\n",
      "\n",
      " Random sentence that was choosen  Abilene has a low volume of job opportunities, with only about 66,510 positions available.  \n",
      "\n",
      "Identify bucket for attribut =  Utilities index Attribute Buckets =  ['bottom25%', 'middle50%', 'top25%'] CityRank for the attribute =  3.0\n",
      "rank 3.0 endRank =  31.75 endRank =  31.75 columnRankCount 127 difference check 95.25\n",
      "Identify bucket for attribut =  Utilities index Attribute Buckets =  ['bottom25%', 'middle50%', 'top25%'] CityRank for the attribute =  3.0\n",
      "Identify bucket for attribut =  Utilities index Attribute Buckets =  ['bottom25%', 'middle50%', 'top25%'] CityRank for the attribute =  3.0\n",
      "Rank =  3.0 Unique rank count =  127 range 31.75 precent 25\n",
      "key to check from the yaml for attribute =  Utilities index  and key =  top25%\n",
      "From replace\n",
      "From replace\n",
      "['{city}']\n",
      "keyword is this {city}\n",
      "***************** Abilene\n",
      "\n",
      " Random sentence that was choosen  \n",
      "The cost of utilities in Abilene is relatively low, with a ranking of 3rd on our list of cities.  \n",
      "\n",
      "Identify bucket for attribut =  GDP Attribute Buckets =  ['top25%'] CityRank for the attribute =  13.0\n",
      "Rank =  13.0 Unique rank count =  193 range 48.25 precent 25\n",
      "key to check from the yaml for attribute =  GDP  and key =  top25%\n",
      "From replace\n",
      "From replace\n",
      "['{city}', '{GDP}']\n",
      "keyword is this {city}\n",
      "***************** Abilene\n",
      "keyword is this {GDP}\n",
      "***************** 3.83\n",
      "\n",
      " Random sentence that was choosen  \n",
      "Abilene is a prosperous city with a GDP growth of 3.83%.  \n",
      "\n",
      "Identify bucket for attribut =  unemployment rate Attribute Buckets =  ['bottom25%', 'middle50%', 'top25%'] CityRank for the attribute =  10.0\n",
      "rank 10.0 endRank =  19.5 endRank =  19.5 columnRankCount 78 difference check 58.5\n",
      "Identify bucket for attribut =  unemployment rate Attribute Buckets =  ['bottom25%', 'middle50%', 'top25%'] CityRank for the attribute =  10.0\n",
      "Identify bucket for attribut =  unemployment rate Attribute Buckets =  ['bottom25%', 'middle50%', 'top25%'] CityRank for the attribute =  10.0\n",
      "Rank =  10.0 Unique rank count =  78 range 19.5 precent 25\n",
      "key to check from the yaml for attribute =  unemployment rate  and key =  top25%\n",
      "From replace\n",
      "From replace\n",
      "['{unemployment rate}', '{city}']\n",
      "keyword is this {unemployment rate}\n",
      "***************** 3.6\n",
      "keyword is this {city}\n",
      "***************** Abilene\n",
      "\n",
      " Random sentence that was choosen  \n",
      "The 3.6% unemployment rate in Abilene, the 10th lowest on our city list, may potentially make this city a relatively easy place to find a job. \n",
      "\n",
      "Identify bucket for attribut =  summer high Attribute Buckets =  ['bottom25%', 'middle50%', 'top25%'] CityRank for the attribute =  9.0\n",
      "rank 9.0 endRank =  27.75 endRank =  27.75 columnRankCount 111 difference check 83.25\n",
      "Identify bucket for attribut =  summer high Attribute Buckets =  ['bottom25%', 'middle50%', 'top25%'] CityRank for the attribute =  9.0\n",
      "Identify bucket for attribut =  summer high Attribute Buckets =  ['bottom25%', 'middle50%', 'top25%'] CityRank for the attribute =  9.0\n",
      "Rank =  9.0 Unique rank count =  111 range 27.75 precent 25\n",
      "key to check from the yaml for attribute =  summer high  and key =  top25%\n",
      "From replace\n",
      "From replace\n",
      "['{city}', '{summer avg temp F}', '{summer high (f)}']\n",
      "keyword is this {city}\n",
      "***************** Abilene\n",
      "keyword is this {summer avg temp F}\n",
      "***************** 84.3\n",
      "keyword is this {summer high (f)}\n",
      "***************** 87.7\n",
      "\n",
      " Random sentence that was choosen  \n",
      "Summers in Abilene are hot, with an average temperature of 84.3°F and a high of 87.7°F. This ranks it as the 9th warmest summer city on our list.  \n",
      "\n",
      "################################################################## \n",
      "\n",
      " 1 Abilene Abilene has a low volume of job opportunities, with only about 66,510 positions available.  The cost of utilities in Abilene is relatively low, with a ranking of 3rd on our list of cities.  Abilene is a prosperous city with a GDP growth of 3.83%.  The 3.6% unemployment rate in Abilene, the 10th lowest on our city list, may potentially make this city a relatively easy place to find a job. Summers in Abilene are hot, with an average temperature of 84.3°F and a high of 87.7°F. This ranks it as the 9th warmest summer city on our list.   \n",
      "\n",
      " ##################################################################\n",
      "--- 0.14664411544799805 Script Runtime  ---\n"
     ]
    }
   ],
   "source": [
    "start_time = time.time()\n",
    "row = 1\n",
    "wb = Workbook()\n",
    "sheet1 = wb.add_sheet('Sheet 1')\n",
    "cityData = readAiContentData()\n",
    "mydict, neutralListMap = createRankColumns(cityData)\n",
    "for cityIndex in range(len(cityData)):\n",
    "    citylistData = (cityData.iloc[[cityIndex]]).values\n",
    "    city = citylistData[0][1]\n",
    "    stateId = citylistData[0][2]\n",
    "    col = 0\n",
    "    if city != \"Abilene\":\n",
    "        continue\n",
    "    posAttributeList = []\n",
    "    negAttributeList = []\n",
    "    neutralAttributeList = []\n",
    "    fixedList = []\n",
    "    counter = 0\n",
    "    citycontent = cityData[np.logical_and(cityData[\"city\"] == city, cityData[\"state_id\"] == stateId)]\n",
    "    rankColumns = cityData.iloc[:, 61:]\n",
    "    rankData = citycontent[rankColumns.columns].values\n",
    "    for i in rankColumns.columns:\n",
    "        print(\"^^^^^^^^^^^^^^^\",i)\n",
    "        metric = i.replace(\"_rank\", \"\")\n",
    "        metrixData = dict(zip(cityData[\"city\"], cityData[metric]))\n",
    "        if metric not in mydict:\n",
    "            counter += 1\n",
    "            continue\n",
    "        if pd.isna(metrixData[city]):\n",
    "            counter += 1\n",
    "            continue\n",
    "#         if metric == \"2019 job opportunity\":\n",
    "        if metric == \"2019 job opportunity_normalized\":\n",
    "            fixedList.append((metric, rankData[0][counter]))\n",
    "        elif mydict[metric][1] == \"TRUE\":\n",
    "            posAttributeList.append((metric, rankData[0][counter]))\n",
    "        elif mydict[metric][1] == \"FALSE\":\n",
    "            negAttributeList.append((metric, rankData[0][counter]))\n",
    "        elif mydict[metric][1] == \"N/A\":\n",
    "            neutralAttributeList.append((metric, neutralListMap[metric].index([city, metrixData[city]]) + 1))\n",
    "        counter += 1\n",
    "    print(\"\\n ----------------------------------- Lists ----------------------------------------------- \\n\")\n",
    "    print(\"City in consideration\", city, citylistData[0][2])\n",
    "    print(\"Fixed List\", fixedList)\n",
    "    print(\"Pos List\", posAttributeList)\n",
    "    print(\"Neg List\", negAttributeList)\n",
    "    print(\"Neu List\", neutralAttributeList)\n",
    "    print(\"\\n ----------------------------------- Lists ----------------------------------------------- \\n\")\n",
    "    fixedList.extend(sorted(posAttributeList, key=lambda x: x[1])[0:2])\n",
    "    fixedList.extend(sorted(negAttributeList, key=lambda x: x[1])[0:1])\n",
    "    fixedList.extend(sorted(neutralAttributeList, key=lambda x: x[1])[0:1])\n",
    "    print(\"\\n Final list of attributes \\n\", fixedList, \"\\n\\n\")\n",
    "    fixedList[-1] = (fixedList[-1][0] , cityData[np.logical_and(cityData[\"city\"] == city, cityData[\"state_id\"] == stateId)][fixedList[-1][0]+\"_rank\"].values[0])\n",
    "    print(\"\\n Final list of attributes \\n\", fixedList, \"\\n\\n\")\n",
    "    cityDescriptionParagraph, bucketKeyList = generateParagraph(city, citylistData[0][2] ,fixedList, \"\", mydict)\n",
    "    print(\"################################################################## \\n\\n\" ,row,city, cityDescriptionParagraph, \"\\n\\n ##################################################################\")\n",
    "    sheet1.write(row, col, city)\n",
    "    col += 1\n",
    "    sheet1.write(row, col, cityDescriptionParagraph)\n",
    "    col += 1\n",
    "    sheet1.write(row, col, stateId)\n",
    "    for i in range(len(bucketKeyList)):\n",
    "        col += 1\n",
    "        sheet1.write(row, col, bucketKeyList[i])\n",
    "    row += 1\n",
    "wb.save('generatedParagraphs.xls')\n",
    "endTime = datetime.now()\n",
    "\n",
    "print(\"--- %s Script Runtime  ---\" % (time.time() - start_time))\n",
    "\n",
    "\n"
   ]
  },
  {
   "cell_type": "code",
   "execution_count": 11,
   "id": "0fb56f24",
   "metadata": {},
   "outputs": [],
   "source": [
    "# count = 0\n",
    "# start = 0\n",
    "# end = len(rankColumns) - 1\n",
    "# bucketList = []\n",
    "# cityParagraph = \"\"\n",
    "# res = \"\"\n",
    "# with open(\"content.yml\") as file:\n",
    "#     descriptionData = yaml.full_load(file)\n",
    "\n",
    "# while(start < len(rankColumns) and start < end):\n",
    "# #     if count == 4:\n",
    "# #         print(\"ran break successfully\")\n",
    "# #         break\n",
    "# #     if count < 3:\n",
    "# # #         print(rankColumns)\n",
    "# #         positiveAttribute = rankColumns[start][1].replace(\"_rank\", \"\")\n",
    "#         if (mydict[positiveAttribute][0] != \"N/A\") and (mydict[positiveAttribute][0] == \"top\" or mydict[positiveAttribute][0] == \"yes\"):  \n",
    "#             print(type(descriptionData[positiveAttribute].keys()))\n",
    "#             key = fetchkey(rankColumns[start], descriptionData[positiveAttribute].keys(), rankColumns[start][0])\n",
    "#             print(\"returned key from the fetch function is =======\", key)\n",
    "#             if key != None:\n",
    "#                 count += 1\n",
    "#                 res = fetchSentences(positiveAttribute, key, descriptionData)\n",
    "#         start += 1\n",
    "        \n",
    "#     else:\n",
    "#         negativeAttribute = rankColumns[end][1].replace(\"_rank\", \"\")\n",
    "#         if mydict[positiveAttribute][0] != \"N/A\" and mydict[negativeAttribute][0] != \"top\":\n",
    "#             print(\"*****\",rankColumns[end])\n",
    "#             print(\"****\",descriptionData[negativeAttribute].keys())\n",
    "#             print(\"***\",rankData[end])\n",
    "#             key = fetchkey(rankColumns[end], descriptionData[negativeAttribute].keys(), rankColumns[start][0])\n",
    "#             if key != None:\n",
    "#                 count += 1\n",
    "#                 res = fetchSentences(negativeAttribute, key, descriptionData)\n",
    "#         end -= 1\n",
    "#     cityParagraph += res\n",
    "#     res =\"\"        \n",
    "\n",
    "\n",
    "# print(\"###############################################################\")\n",
    "# print(cityParagraph)\n",
    "# print(\"###############################################################\")"
   ]
  },
  {
   "cell_type": "code",
   "execution_count": 12,
   "id": "13422f73",
   "metadata": {},
   "outputs": [],
   "source": [
    "# cityData[\"avg. snow per year_rank\"].nunique()"
   ]
  },
  {
   "cell_type": "code",
   "execution_count": 13,
   "id": "a73ddfe4",
   "metadata": {},
   "outputs": [],
   "source": [
    "# New York\n",
    "# City_name's average commute time is pretty long: about 23.1 minutes. This is the 23rd longest commute time on our city list.City_name is a small city. It has only xpopulation people living in it, ranking it as the xrank smallest population in our city list. There are 552 schools per 100,000 people, making City_name a place with good access to education. This ranks the city 58th on our city list. City_name's winter is very cold. The average temperature in winter is just XX°F, ranking this as the 42nd coldest winter city. "
   ]
  },
  {
   "cell_type": "code",
   "execution_count": 14,
   "id": "8203ee71",
   "metadata": {},
   "outputs": [],
   "source": [
    "# ('commute time_rank', 'population_rank', 'schools per 100,000 people_rank', 'median home value_rank', 'expend, per student_rank', 'avg. rainfall per year_rank', 'air quality_rank', 'Job opportunity_rank', 'unemployment rate_rank', 'median age_rank', 'poverty rate_rank', 'Healthcare index_rank', 'Utilities index_rank', 'Good&service index_rank', 'GDP_rank', 'avg. snow per year_rank', 'Housing Index_rank', 'median household income growth_rank')\n",
    "# (1.0, 1.0, 1.0, 3.0, 7.0, 12.0, 14.0, 43.0, 43.0, 47.0, 82.0, 108.0, 113.0, 115.0, 124.0, 124.0, 145.0, 159.0)\n",
    "\n",
    "\n",
    "# ('Utilities index_rank', 'GDP_rank', 'Good&service index_rank', 'Healthcare index_rank', 'avg. snow per year_rank', 'schools per 100,000 people_rank', 'Job opportunity_rank', 'unemployment rate_rank', 'Housing Index_rank', 'median household income growth_rank', 'poverty rate_rank', 'median age_rank', 'median home value_rank', 'commute time_rank', 'avg. rainfall per year_rank', 'population_rank', 'expend, per student_rank', 'air quality_rank')\n",
    "# (3.0, 13.0, 24.0, 27.0, 37.0, 64.0, 69.0, 69.0, 83.0, 92.0, 93.0, 94.0, 109.0, 115.0, 144.0, 152.0, 196.0, nan)\n",
    "\n",
    "# ('air quality_rank', 'Job opportunity_rank', 'unemployment rate_rank', 'avg. snow per year_rank', 'avg. rainfall per year_rank', 'schools per 100,000 people_rank', 'poverty rate_rank', 'median age_rank', 'expend, per student_rank', 'commute time_rank', 'population_rank', 'Healthcare index_rank', 'Good&service index_rank', 'median household income growth_rank', 'Housing Index_rank', 'Utilities index_rank', 'GDP_rank', 'median home value_rank')\n",
    "# (19.0, 26.0, 26.0, 27.0, 38.0, 43.0, 44.0, 45.0, 55.0, 60.0, 65.0, 66.0, 75.0, 75.0, 82.0, 83.0, 121.0, 135.0)\n",
    "\n",
    "# ('Job opportunity_rank', 'unemployment rate_rank', 'poverty rate_rank', 'air quality_rank', 'expend, per student_rank', 'Housing Index_rank', 'median age_rank', 'Good&service index_rank', 'Utilities index_rank', 'schools per 100,000 people_rank', 'avg. rainfall per year_rank', 'median household income growth_rank', 'Healthcare index_rank', 'commute time_rank', 'avg. snow per year_rank', 'median home value_rank', 'GDP_rank', 'population_rank')\n",
    "# (4.0, 4.0, 14.0, 24.0, 43.0, 51.0, 70.0, 72.0, 76.0, 79.0, 85.0, 89.0, 92.0, 95.0, 122.0, 129.0, 161.0, 174.0)\n"
   ]
  },
  {
   "cell_type": "code",
   "execution_count": 15,
   "id": "d669fc1e",
   "metadata": {},
   "outputs": [],
   "source": [
    "# Test for preprocessing\n",
    "\n",
    "# cityData.head()\n",
    "# cityData[\"avg. rainfall per year\"]\n",
    "# cityData[\"avg. snow per year\"]\n",
    "# empDfObj = pd.DataFrame(cityData, columns=[\"avg. rainfall per year\", \"avg. snow per year\", \"city\"])\n",
    "# print(empDfObj.dtypes)"
   ]
  },
  {
   "cell_type": "code",
   "execution_count": 16,
   "id": "0b71f1e7",
   "metadata": {},
   "outputs": [],
   "source": [
    "# Comparator test\n",
    "# d = {'col1': [1, 2, 3,4,5,21], 'col2': [3, 4,7,8,9,1]}\n",
    "# df = pd.DataFrame(data=d)\n",
    "# m = df[\"col1\"].mean()\n",
    "# xy = df.reset_index()[df.columns].values.tolist()\n",
    "# df"
   ]
  },
  {
   "cell_type": "code",
   "execution_count": 17,
   "id": "9e169586",
   "metadata": {},
   "outputs": [],
   "source": [
    "# print(xy)\n",
    "# print(m)"
   ]
  },
  {
   "cell_type": "code",
   "execution_count": 18,
   "id": "56d89ced",
   "metadata": {},
   "outputs": [],
   "source": [
    "# sorted(xy, key=lambda x: abs(x[0] - m), reverse = True)\n",
    "# xy"
   ]
  },
  {
   "cell_type": "code",
   "execution_count": 19,
   "id": "47ed58b5",
   "metadata": {},
   "outputs": [],
   "source": [
    "# t = map({xy.split(0), xy.split(0)},xy)\n",
    "# t"
   ]
  },
  {
   "cell_type": "code",
   "execution_count": 20,
   "id": "98abb662",
   "metadata": {},
   "outputs": [],
   "source": [
    "# Sort by key\n",
    "# import statistics\n",
    "\n",
    "# import operator\n",
    "# x = {1: 21, 3: 1, 4: 2, 2: 3, 0: 4, 11: 5}\n",
    "# print(x.items())\n",
    "# m1 = statistics.mean(x.values())\n",
    "# print(m1)\n",
    "# sorted_x = sorted(x.items(), key=lambda x: abs(x[1] - m1), reverse=True)\n",
    "# print(sorted_x)"
   ]
  },
  {
   "cell_type": "code",
   "execution_count": 21,
   "id": "05e104ca",
   "metadata": {},
   "outputs": [],
   "source": [
    "# a = [10.0, 9.8, 8.0, 7.8, 7.7, 7.0, 6.0, 5.0, 4.0, 2.0, 2.0]\n",
    "# rank = lambda arr: list(map(lambda i: sorted(arr).index(i)+1, arr))\n",
    "# rank(a)"
   ]
  },
  {
   "cell_type": "code",
   "execution_count": 22,
   "id": "7d2257cf",
   "metadata": {},
   "outputs": [],
   "source": [
    "# x = ['bottom25%', 'middle50%', 'top25%']\n",
    "# res = \"\".join([i for i in x if \"middle\" in i])\n",
    "# res = any(\"middle\" in string for string in x)\n",
    "# op =\"\"\n",
    "# flag=True\n",
    "\n",
    "# for i in range(0,3):\n",
    "#     if (res and flag):\n",
    "#         flag = False\n",
    "#         op = x[i]\n",
    "#         print(\"Middle executed\")\n",
    "#     if x[i].startswith(\"top\"):\n",
    "#         print(\"Tiop executed\")\n",
    "#     elif x[i].startswith(\"bottom\"):\n",
    "#         print(\"Bottom executed executed\")\n",
    "# print(res)"
   ]
  },
  {
   "cell_type": "code",
   "execution_count": 23,
   "id": "91a752fd",
   "metadata": {},
   "outputs": [],
   "source": [
    "# 129 >= 173 - 43.25\n"
   ]
  },
  {
   "cell_type": "code",
   "execution_count": 24,
   "id": "113c252a",
   "metadata": {},
   "outputs": [],
   "source": [
    "# def abc():\n",
    "#     return \"a\", [1,2,3]\n",
    "\n",
    "# x, y = abc()\n",
    "# print(x)\n",
    "# print(y)"
   ]
  },
  {
   "cell_type": "code",
   "execution_count": 25,
   "id": "94c087a2",
   "metadata": {},
   "outputs": [],
   "source": [
    "# \"m name is {city}'s\".replace(\"{city}'s\", \"New York's\")"
   ]
  },
  {
   "cell_type": "code",
   "execution_count": 26,
   "id": "8757f895",
   "metadata": {},
   "outputs": [],
   "source": [
    "# import re\n",
    "# s = \"The average amount spent per student is relatively high at {expend, per student $}. This places {city} {rank} on our city list in terms of eductaional priorities\"\n",
    "# x = re.findall(\"[{][\\w.,$&-/(/)/\\s]{0,}[}]\", s)\n",
    "# print(x)\n",
    "# for i in x:\n",
    "#     print(i[1:-1])\n",
    "#     s = s.replace(i, str(cityData[np.logical_and(cityData[\"city\"] == \"Abilene\", cityData[\"state_id\"] == \"TX\")][i[1:-1]].values[0]))\n",
    "# #     print(i[1:-1])\n",
    "# #     p = s.find(i)\n",
    "# #     print(p)\n",
    "# #     s = s.replace(i, str(100))\n",
    "# # print(s)"
   ]
  },
  {
   "cell_type": "code",
   "execution_count": 27,
   "id": "77a84242",
   "metadata": {},
   "outputs": [],
   "source": [
    "# x = cityData[cityData[\"city\"] == \"New York\"][\"population\"]\n",
    "# print(int(x))"
   ]
  },
  {
   "cell_type": "code",
   "execution_count": 28,
   "id": "20137eb4",
   "metadata": {},
   "outputs": [],
   "source": [
    "# cityData[cityData[\"city\"] == \"New York\"][\"population\"]"
   ]
  },
  {
   "cell_type": "code",
   "execution_count": 29,
   "id": "712aa1f2",
   "metadata": {},
   "outputs": [],
   "source": [
    "# (cityData[np.logical_and(cityData[\"city\"] == \"Albany\", cityData[\"state_id\"] == \"GA\")][\"2019 job opportunity\"].values)[0]"
   ]
  },
  {
   "cell_type": "code",
   "execution_count": 30,
   "id": "599f6ea6",
   "metadata": {},
   "outputs": [],
   "source": [
    "# for cityIndex in range(len(cityData)):\n",
    "#     city = (cityData.iloc[[cityIndex]]).values\n",
    "#     print(city[0][1])\n",
    "#     break"
   ]
  },
  {
   "cell_type": "code",
   "execution_count": 31,
   "id": "f37478dc",
   "metadata": {},
   "outputs": [],
   "source": [
    "# print(datetime.now())"
   ]
  },
  {
   "cell_type": "code",
   "execution_count": 32,
   "id": "63857278",
   "metadata": {},
   "outputs": [],
   "source": [
    "# citylistData = (cityData.iloc[[1]]).values\n",
    "# citylistData"
   ]
  },
  {
   "cell_type": "code",
   "execution_count": 33,
   "id": "3fce9fed",
   "metadata": {},
   "outputs": [],
   "source": [
    "# cityData[[\"city\",\"population_rank\"]]"
   ]
  },
  {
   "cell_type": "code",
   "execution_count": 34,
   "id": "82a7839d",
   "metadata": {},
   "outputs": [],
   "source": [
    "# cityData[np.logical_and(cityData[\"city\"] == \"Albuquerque\", cityData[\"state_id\"] == \"NM\")][\"avg. rainfall per year (mm)_rank\"].values[0]"
   ]
  },
  {
   "cell_type": "code",
   "execution_count": 35,
   "id": "9cfcf49b",
   "metadata": {},
   "outputs": [],
   "source": [
    "# def rescue_code(function):\n",
    "#     import inspect\n",
    "#     get_ipython().set_next_input(\"\".join(inspect.getsourcelines(function)[0]))"
   ]
  },
  {
   "cell_type": "code",
   "execution_count": 36,
   "id": "f81933c8",
   "metadata": {},
   "outputs": [],
   "source": [
    "# rescue_code(fetchAirQualityKey)"
   ]
  },
  {
   "cell_type": "code",
   "execution_count": 37,
   "id": "20d52435",
   "metadata": {},
   "outputs": [],
   "source": [
    "# s = \"agflF AWLIDFHAWDN FCLAIWFHAM WFCLAWBC \\n wgdbf liaudshfbmaw fkub \\n aldjsfhlawf. \\n\"\n",
    "# print(s.replace(\"\\n\", \"\"))"
   ]
  },
  {
   "cell_type": "code",
   "execution_count": 38,
   "id": "fe3a2eb5",
   "metadata": {},
   "outputs": [],
   "source": [
    "# Yuma has a low volume of job opportunities, with only about 61,940 positions available. \n",
    "# In Yuma, goods and services have average prices compared to other cities. The cost index is 82.3, putting Yuma 59th on our city list.\n",
    "# Housing in Yuma is reasonably priced. The index is 83.9, putting it 62nd on our list of cities. \n",
    "# The weather in Yuma is very dry, with an annual rainfall of only 2.8 inches. This city is 174th in rainfall on our list of cities. \n",
    "\n",
    "# There are currently about 61,940 employment opportunites here, making Yuma the 140th on our city list to find a job.  Goods and services in Yuma are generally have average prices, with an index of 82.3, which ranks the city as having the 57th highest and the 59th lowest prices of the cities on our list.  Housing in Yuma is about average, with the housing index of 83.9 ranking the city 62nd on our city list.  Yuma's average commute time is pretty long: about 15.8 minutes. This is the 19th longest commute time on our city list.  The weather in Yuma is very dry, with an annual rainfall of only 2.8 inches. This city is 174th in rainfall on our list of cities."
   ]
  },
  {
   "cell_type": "code",
   "execution_count": 39,
   "id": "d79191e6",
   "metadata": {},
   "outputs": [],
   "source": [
    "# def test_meansort():\n",
    "#     x = main.meansort(main.cityData[\"winter low\"], df[[\"Name\", \"winter low\"]])\n",
    "#     print(x)\n",
    "# test_meansort()"
   ]
  },
  {
   "cell_type": "code",
   "execution_count": 40,
   "id": "d5888662",
   "metadata": {},
   "outputs": [],
   "source": [
    "# cityData[\"avg. rainfall per year (inch)\"].mean()"
   ]
  },
  {
   "cell_type": "code",
   "execution_count": 41,
   "id": "f439f104",
   "metadata": {},
   "outputs": [
    {
     "name": "stdout",
     "output_type": "stream",
     "text": [
      "True\n"
     ]
    }
   ],
   "source": [
    "if \"$\" in \"{sdifau asdif $}\":\n",
    "    print(True)"
   ]
  },
  {
   "cell_type": "code",
   "execution_count": 42,
   "id": "a660f34d",
   "metadata": {},
   "outputs": [
    {
     "data": {
      "text/plain": [
       "Index(['citylist', 'city', 'state_id', 'state_name', 'county_name',\n",
       "       'population', 'median age', 'family_size', 'income_individual_median',\n",
       "       'unemployment rate', '2019 job opportunity',\n",
       "       '2019 job opportunity_normalized', 'poverty rate',\n",
       "       ' median_house_sale_price', 'summer high', 'summer high (f)',\n",
       "       'winter low', 'winter low (F)', 'avg. rainfall per year (inch)',\n",
       "       'avg. snow per year (inch)', 'Average sunny per year (day)',\n",
       "       'school_record', 'school_record_normalized', 'expend, per student $',\n",
       "       'commute time (min)', 'air quality', 'household', 'GDP',\n",
       "       'Median household income growth percentage', 'Grocery Index',\n",
       "       'Housing Index', 'Utilities index', 'Healthcare index',\n",
       "       'Good&service index', 'density', 'Violent crime per 1000',\n",
       "       'Murder per 1000', 'rape per 1000', 'Robbery per 1000',\n",
       "       'Aggravated assault per 1000', 'Property crime per 1000',\n",
       "       'Burglary per 1000', 'Larceny-theft per 1000',\n",
       "       'Motor vehicle theft per 1000', 'Arson per 1000', 'Violent crime',\n",
       "       'Murder ', 'Rape', 'Robbery', 'Aggravated assault', 'Property crime',\n",
       "       'Burglary', 'Larceny-theft', 'Motor vehicle theft', 'Arson2',\n",
       "       'income_household_median', 'six figure household percentage',\n",
       "       'home_value', '2019 population growth rate', 'summer avg temp F',\n",
       "       'winter avg temp F', 'population_rank', 'median age_rank',\n",
       "       'unemployment rate_rank', '2019 job opportunity_normalized_rank',\n",
       "       'poverty rate_rank', 'summer high_rank', 'winter low_rank',\n",
       "       'avg. rainfall per year (inch)_rank', 'avg. snow per year (inch)_rank',\n",
       "       'school_record_normalized_rank', 'expend, per student $_rank',\n",
       "       'commute time (min)_rank', 'air quality_rank', 'GDP_rank',\n",
       "       'Grocery Index_rank', 'Housing Index_rank', 'Utilities index_rank',\n",
       "       'Healthcare index_rank', 'Good&service index_rank', 'density_rank'],\n",
       "      dtype='object')"
      ]
     },
     "execution_count": 42,
     "metadata": {},
     "output_type": "execute_result"
    }
   ],
   "source": [
    "cityData.columns"
   ]
  },
  {
   "cell_type": "code",
   "execution_count": null,
   "id": "6f6d252b",
   "metadata": {},
   "outputs": [],
   "source": []
  }
 ],
 "metadata": {
  "kernelspec": {
   "display_name": "Python 3 (ipykernel)",
   "language": "python",
   "name": "python3"
  },
  "language_info": {
   "codemirror_mode": {
    "name": "ipython",
    "version": 3
   },
   "file_extension": ".py",
   "mimetype": "text/x-python",
   "name": "python",
   "nbconvert_exporter": "python",
   "pygments_lexer": "ipython3",
   "version": "3.9.7"
  }
 },
 "nbformat": 4,
 "nbformat_minor": 5
}
