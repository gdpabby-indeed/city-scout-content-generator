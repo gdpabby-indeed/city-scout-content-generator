{
 "cells": [
  {
   "cell_type": "code",
   "execution_count": 1,
   "id": "b426047b",
   "metadata": {},
   "outputs": [],
   "source": [
    "import logging as log\n",
    "import nbimporter\n",
    "import pandas as pd\n",
    "import import_ipynb as ipynb\n",
    "import contentGenerator as main\n"
   ]
  },
  {
   "cell_type": "code",
   "execution_count": 2,
   "id": "1d58554f",
   "metadata": {},
   "outputs": [
    {
     "name": "stdout",
     "output_type": "stream",
     "text": [
      "Assertion successful\n"
     ]
    }
   ],
   "source": [
    "def test_meansort(sortedData):\n",
    "    sortedData = main.meansort(\"Age\", sortedData[[\"Name\", \"Age\"]])\n",
    "    return sortedData\n",
    "\n",
    "data = {'Name':['Tom', 'nick', 'krish', 'Sam'], 'Age':[5.1, 10.4, 19.7, 50.4]}\n",
    "df = pd.DataFrame(data)\n",
    "sortedData = test_meansort(df)\n",
    "assert(['Sam', 50.4] == sortedData[0])\n",
    "print(\"Assertion successful\")"
   ]
  },
  {
   "cell_type": "code",
   "execution_count": 3,
   "id": "407e2262",
   "metadata": {
    "scrolled": true
   },
   "outputs": [
    {
     "ename": "TypeError",
     "evalue": "fetchkey() missing 2 required positional arguments: 'rank' and 'mydict'",
     "output_type": "error",
     "traceback": [
      "\u001b[0;31m---------------------------------------------------------------------------\u001b[0m",
      "\u001b[0;31mTypeError\u001b[0m                                 Traceback (most recent call last)",
      "\u001b[0;32m/var/folders/kk/t3jlcxsd0jg33p0rg3jqzd300000gn/T/ipykernel_4472/3233047998.py\u001b[0m in \u001b[0;36m<module>\u001b[0;34m\u001b[0m\n\u001b[1;32m      7\u001b[0m \u001b[0;34m\u001b[0m\u001b[0m\n\u001b[1;32m      8\u001b[0m \u001b[0;31m# For neutral metrix if the rank falls in the middle bucket then key returned should be empty string\u001b[0m\u001b[0;34m\u001b[0m\u001b[0;34m\u001b[0m\u001b[0m\n\u001b[0;32m----> 9\u001b[0;31m \u001b[0;32massert\u001b[0m\u001b[0;34m(\u001b[0m\u001b[0mtest_fetchKey\u001b[0m\u001b[0;34m(\u001b[0m\u001b[0;34m\"winter low\"\u001b[0m\u001b[0;34m,\u001b[0m \u001b[0;34m[\u001b[0m\u001b[0;34m\"top25%\"\u001b[0m\u001b[0;34m,\u001b[0m \u001b[0;34m\"middle50%\"\u001b[0m\u001b[0;34m,\u001b[0m \u001b[0;34m\"bottom25%\"\u001b[0m\u001b[0;34m]\u001b[0m\u001b[0;34m,\u001b[0m \u001b[0;36m125\u001b[0m\u001b[0;34m,\u001b[0m \u001b[0mmyDict\u001b[0m\u001b[0;34m)\u001b[0m \u001b[0;34m==\u001b[0m \u001b[0;34m\"bottom25%\"\u001b[0m\u001b[0;34m)\u001b[0m\u001b[0;34m\u001b[0m\u001b[0;34m\u001b[0m\u001b[0m\n\u001b[0m\u001b[1;32m     10\u001b[0m \u001b[0;32massert\u001b[0m\u001b[0;34m(\u001b[0m\u001b[0mtest_fetchKey\u001b[0m\u001b[0;34m(\u001b[0m\u001b[0;34m\"population\"\u001b[0m\u001b[0;34m,\u001b[0m \u001b[0;34m[\u001b[0m\u001b[0;34m\"top10\"\u001b[0m\u001b[0;34m,\u001b[0m\u001b[0;34m\"top25%\"\u001b[0m\u001b[0;34m,\u001b[0m\u001b[0;34m\"middle50%\"\u001b[0m\u001b[0;34m,\u001b[0m\u001b[0;34m\"bottom25%\"\u001b[0m\u001b[0;34m]\u001b[0m\u001b[0;34m,\u001b[0m \u001b[0;36m1\u001b[0m\u001b[0;34m,\u001b[0m \u001b[0mmyDict\u001b[0m\u001b[0;34m)\u001b[0m \u001b[0;34m==\u001b[0m \u001b[0;34m\"top10\"\u001b[0m\u001b[0;34m)\u001b[0m\u001b[0;34m\u001b[0m\u001b[0;34m\u001b[0m\u001b[0m\n\u001b[1;32m     11\u001b[0m \u001b[0;32massert\u001b[0m\u001b[0;34m(\u001b[0m\u001b[0mtest_fetchKey\u001b[0m\u001b[0;34m(\u001b[0m\u001b[0;34m\"population\"\u001b[0m\u001b[0;34m,\u001b[0m \u001b[0;34m[\u001b[0m\u001b[0;34m\"top10\"\u001b[0m\u001b[0;34m,\u001b[0m\u001b[0;34m\"top25%\"\u001b[0m\u001b[0;34m,\u001b[0m\u001b[0;34m\"middle50%\"\u001b[0m\u001b[0;34m,\u001b[0m\u001b[0;34m\"bottom25%\"\u001b[0m\u001b[0;34m]\u001b[0m\u001b[0;34m,\u001b[0m \u001b[0;36m138\u001b[0m\u001b[0;34m,\u001b[0m \u001b[0mmyDict\u001b[0m\u001b[0;34m)\u001b[0m \u001b[0;34m==\u001b[0m \u001b[0;34m\"\"\u001b[0m\u001b[0;34m)\u001b[0m\u001b[0;34m\u001b[0m\u001b[0;34m\u001b[0m\u001b[0m\n",
      "\u001b[0;32m/var/folders/kk/t3jlcxsd0jg33p0rg3jqzd300000gn/T/ipykernel_4472/3233047998.py\u001b[0m in \u001b[0;36mtest_fetchKey\u001b[0;34m(att, bucetList, rank, myDict)\u001b[0m\n\u001b[1;32m      2\u001b[0m \u001b[0;32mdef\u001b[0m \u001b[0mtest_fetchKey\u001b[0m\u001b[0;34m(\u001b[0m\u001b[0matt\u001b[0m\u001b[0;34m,\u001b[0m \u001b[0mbucetList\u001b[0m\u001b[0;34m,\u001b[0m \u001b[0mrank\u001b[0m\u001b[0;34m,\u001b[0m \u001b[0mmyDict\u001b[0m\u001b[0;34m)\u001b[0m\u001b[0;34m:\u001b[0m\u001b[0;34m\u001b[0m\u001b[0;34m\u001b[0m\u001b[0m\n\u001b[1;32m      3\u001b[0m     \u001b[0mcityData\u001b[0m \u001b[0;34m=\u001b[0m \u001b[0mpd\u001b[0m\u001b[0;34m.\u001b[0m\u001b[0mread_csv\u001b[0m\u001b[0;34m(\u001b[0m\u001b[0;34m\"cityData.csv\"\u001b[0m\u001b[0;34m)\u001b[0m\u001b[0;34m\u001b[0m\u001b[0;34m\u001b[0m\u001b[0m\n\u001b[0;32m----> 4\u001b[0;31m     \u001b[0mres\u001b[0m \u001b[0;34m=\u001b[0m \u001b[0mmain\u001b[0m\u001b[0;34m.\u001b[0m\u001b[0mfetchkey\u001b[0m\u001b[0;34m(\u001b[0m\u001b[0mcityData\u001b[0m\u001b[0;34m,\u001b[0m \u001b[0matt\u001b[0m\u001b[0;34m,\u001b[0m \u001b[0mbucetList\u001b[0m\u001b[0;34m,\u001b[0m \u001b[0mrank\u001b[0m\u001b[0;34m,\u001b[0m \u001b[0mmyDict\u001b[0m\u001b[0;34m)\u001b[0m\u001b[0;34m\u001b[0m\u001b[0;34m\u001b[0m\u001b[0m\n\u001b[0m\u001b[1;32m      5\u001b[0m     \u001b[0mprint\u001b[0m\u001b[0;34m(\u001b[0m\u001b[0;34m\"\\nKey =\"\u001b[0m\u001b[0;34m,\u001b[0m \u001b[0mres\u001b[0m\u001b[0;34m,\u001b[0m \u001b[0;34m\"\\n\"\u001b[0m\u001b[0;34m)\u001b[0m\u001b[0;34m\u001b[0m\u001b[0;34m\u001b[0m\u001b[0m\n\u001b[1;32m      6\u001b[0m     \u001b[0;32mreturn\u001b[0m \u001b[0mres\u001b[0m\u001b[0;34m\u001b[0m\u001b[0;34m\u001b[0m\u001b[0m\n",
      "\u001b[0;31mTypeError\u001b[0m: fetchkey() missing 2 required positional arguments: 'rank' and 'mydict'"
     ]
    }
   ],
   "source": [
    "myDict = {'air quality': ['yes', 'FALSE', 'B'], 'avg. rainfall per year (mm)': ['yes', 'N/A', 'C'], 'avg. snow per year (mm)': ['yes', 'N/A', 'C'], 'commute time (min)': ['yes', 'FALSE', 'A'], 'density': ['yes', 'N/A', 'B'], 'expend, per student': ['top', 'TRUE', 'C'], 'GDP': ['yes', 'TRUE', 'B'], 'Good&service index': ['yes', 'TRUE', 'A'], 'Grocery Index': ['yes', 'TRUE', 'A'], 'Healthcare index': ['yes', 'TRUE', 'A'], 'Housing Index': ['yes', 'TRUE', 'A'], '2019 job opportunity': ['yes', 'TRUE', 'A'], 'median age': ['bottom', 'N/A', 'C'], 'median home value': ['yes', 'FALSE', 'B'], 'median home value growth percentage': ['N/A', 'N/A', 'B'], 'median household income': ['N/A', 'TRUE', 'B'], 'population': ['yes', 'N/A', 'A'], 'population growth percentage': ['N/A', 'N/A', 'B'], 'poverty rate': ['yes', 'FALSE', 'B'], 'school_record': ['top', 'TRUE', 'C'], 'six figure household percentage': ['N/A', 'TRUE', 'C'], 'summer high': ['yes', 'N/A', 'C'], 'unemployment rate': ['bottom', 'FALSE', 'B'], 'Utilities index': ['yes', 'TRUE', 'A'], 'winter low': ['yes', 'N/A', 'C']}\n",
    "def test_fetchKey(att, bucetList, rank, myDict):\n",
    "    cityData = pd.read_csv(\"cityData.csv\")\n",
    "    res = main.fetchkey(cityData, \"\", \"\", att, bucetList, rank, myDict)\n",
    "    print(\"\\nKey =\", res, \"\\n\")\n",
    "    return res\n",
    "\n",
    "# For neutral metrix if the rank falls in the middle bucket then key returned should be empty string\n",
    "assert(test_fetchKey(\"winter low\", [\"top25%\", \"middle50%\", \"bottom25%\"], 125, myDict) == \"bottom25%\")\n",
    "assert(test_fetchKey(\"population\", [\"top10\",\"top25%\",\"middle50%\",\"bottom25%\"], 1, myDict) == \"top10\")\n",
    "assert(test_fetchKey(\"population\", [\"top10\",\"top25%\",\"middle50%\",\"bottom25%\"], 138, myDict) == \"\")\n",
    "assert(test_fetchKey(\"population\", [\"top10\",\"top25%\",\"middle50%\",\"bottom25%\"], 240, myDict) == \"bottom25%\")\n",
    "# assert(test_fetchKey(\"air quality\", [\"0-50\",\"51-100\",\"101-150\",\"151-200\",\"201-300\",\"301-500\"], 100, myDict) == \"51-100\")\n",
    "# assert(test_fetchKey(\"air quality\", [\"0-50\",\"51-100\",\"101-150\",\"151-200\",\"201-300\",\"301-500\"], 250, myDict) == \"201-300\")\n",
    "# assert(test_fetchKey(\"air quality\", [\"0-50\",\"51-100\",\"101-150\",\"151-200\",\"201-300\",\"301-500\"], 150, myDict) == \"101-150\")\n",
    "assert(test_fetchKey(\"school_record\", [\"top25%\", \"middle50%\", \"bottom25%\"], 99, myDict) == \"bottom25%\")\n",
    "assert(test_fetchKey(\"school_record\", [\"top25%\", \"middle50%\", \"bottom25%\"], 1, myDict) == \"top25%\")\n",
    "assert(test_fetchKey(\"school_record\", [\"top25%\", \"middle50%\", \"bottom25%\"], 50, myDict) == \"middle50%\")\n",
    "assert(test_fetchKey(\"Housing Index\", [\"top25%\", \"middle50%\", \"bottom25%\"], 23, myDict) == \"top25%\")\n",
    "assert(test_fetchKey(\"Housing Index\", [\"top25%\", \"middle50%\", \"bottom25%\"], 75, myDict) == \"middle50%\")\n",
    "assert(test_fetchKey(\"Housing Index\", [\"top25%\", \"middle50%\", \"bottom25%\"], 125, myDict) == \"bottom25%\")\n",
    "assert(test_fetchKey(\"Housing Index\", [\"top25%\", \"middle50%\", \"bottom25%\"], 125, myDict) == \"bottom25%\")\n",
    "assert(test_fetchKey(\"poverty rate\", [\"bottom25%\"], 1, myDict) == \"\")\n",
    "assert(test_fetchKey(\"poverty rate\", [\"bottom25%\"], 100, myDict) == \"\")\n",
    "assert(test_fetchKey(\"poverty rate\", [\"bottom25%\"], 133, myDict) == \"bottom25%\")\n",
    "print(\"Assertion Successful\")\n",
    "\n",
    "\n",
    "\n",
    "\n"
   ]
  },
  {
   "cell_type": "code",
   "execution_count": null,
   "id": "13e9e24a",
   "metadata": {},
   "outputs": [],
   "source": [
    "def test_numToOrdinal(num):\n",
    "    return main.numToOrdinal(num)\n",
    "\n",
    "assert(test_numToOrdinal(1) == \"1st\")\n",
    "assert(test_numToOrdinal(2) == \"2nd\")\n",
    "assert(test_numToOrdinal(3) == \"3rd\")\n",
    "assert(test_numToOrdinal(4) == \"4th\")\n",
    "assert(test_numToOrdinal(10) == \"10th\")\n",
    "assert(test_numToOrdinal(23) == \"23rd\")\n",
    "assert(test_numToOrdinal(42) == \"42nd\")\n",
    "\n",
    "print(\"Assertion Successful\")"
   ]
  },
  {
   "cell_type": "code",
   "execution_count": null,
   "id": "5fc33a28",
   "metadata": {},
   "outputs": [],
   "source": [
    "def test_numberFormat(num):\n",
    "    return main.numberFormat(num)\n",
    "\n",
    "assert(test_numberFormat(100) == \"100\")\n",
    "assert(test_numberFormat(1000) == \"1,000\")\n",
    "assert(test_numberFormat(10000) == \"10,000\")\n",
    "assert(test_numberFormat(1000000) == \"1,000,000\")\n",
    "assert(test_numberFormat(123456789) == \"123,456,789\")\n",
    "# assert(test_numberFormat(15.40) == \"15.40\")\n",
    "print(\"Assertion Successful\")"
   ]
  },
  {
   "cell_type": "code",
   "execution_count": null,
   "id": "1a1522f3",
   "metadata": {},
   "outputs": [],
   "source": [
    "cityData = main.readAiContentData()\n",
    "# cityData[\"avg. rainfall per year (inch)\"].fillna(value=cityData[\"avg. rainfall per year (inch)\"].mean(), inplace=True)\n",
    "def test_createRankColumns():\n",
    "    _, neutralListMap = main.createRankColumns(cityData)\n",
    "    return neutralListMap\n",
    "\n",
    "neutralListMap = test_createRankColumns()\n",
    "assert(cityData[cityData[\"population_rank\"] == 1][\"city\"].values[0] == \"New York\" )\n",
    "assert(neutralListMap[\"avg. rainfall per year (inch)\"][0][0] == \"Juneau\")\n",
    "assert(neutralListMap[\"summer high\"][0][0] == \"Juneau\")\n",
    "assert(cityData[cityData[\"air quality_rank\"] == 1][\"city\"].values[0] == \"Dodge City\")\n",
    "assert(neutralListMap[\"density\"][0][0] == \"Manhattan\")\n",
    "assert(neutralListMap[\"median age\"][0][0] == \"Hilton Head Island\")\n",
    "assert(cityData[cityData[\"Housing Index_rank\"] == 1][\"city\"].values[0] == \"Arlington\")\n",
    "assert(cityData[cityData[\"2019 job opportunity_normalized_rank\"] == 1][\"city\"].values[0] == \"Fort Lauderdale\")\n",
    "assert(cityData[cityData[\"poverty rate_rank\"] == 1][\"city\"].values[0] == \"Bethesda\")\n",
    "assert(cityData[cityData[\"2019 job opportunity_normalized_rank\"] == 150][\"city\"].values[0] == \"Abilene\")\n",
    "\n",
    "\n",
    "\n",
    "# print(neutralListMap[\"avg. rainfall per year (inch)\"])"
   ]
  },
  {
   "cell_type": "code",
   "execution_count": null,
   "id": "12a50acc",
   "metadata": {},
   "outputs": [],
   "source": [
    "def test_fetchAirQualityKey(quality):\n",
    "    return main.fetchAirQualityKey(quality)\n",
    "    \n",
    "assert(test_fetchAirQualityKey(49) == \"0-50\")\n",
    "assert(test_fetchAirQualityKey(101) == \"101-150\")\n",
    "assert(test_fetchAirQualityKey(200) == \"151-200\")\n",
    "\n",
    "print(\"Assertion Successful\")"
   ]
  },
  {
   "cell_type": "code",
   "execution_count": null,
   "id": "7c94dcd8",
   "metadata": {},
   "outputs": [],
   "source": []
  }
 ],
 "metadata": {
  "kernelspec": {
   "display_name": "Python 3 (ipykernel)",
   "language": "python",
   "name": "python3"
  },
  "language_info": {
   "codemirror_mode": {
    "name": "ipython",
    "version": 3
   },
   "file_extension": ".py",
   "mimetype": "text/x-python",
   "name": "python",
   "nbconvert_exporter": "python",
   "pygments_lexer": "ipython3",
   "version": "3.9.7"
  }
 },
 "nbformat": 4,
 "nbformat_minor": 5
}
