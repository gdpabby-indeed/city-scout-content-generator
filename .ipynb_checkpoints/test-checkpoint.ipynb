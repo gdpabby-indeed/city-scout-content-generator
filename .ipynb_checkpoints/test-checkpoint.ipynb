{
 "cells": [
  {
   "cell_type": "code",
   "execution_count": 1,
   "id": "b426047b",
   "metadata": {},
   "outputs": [],
   "source": [
    "import logging as log\n",
    "import nbimporter\n",
    "import pandas as pd\n",
    "import import_ipynb as ipynb\n",
    "import contentGenerator as main\n"
   ]
  },
  {
   "cell_type": "code",
   "execution_count": 2,
   "id": "1d58554f",
   "metadata": {},
   "outputs": [
    {
     "name": "stdout",
     "output_type": "stream",
     "text": [
      "Assertion successful\n"
     ]
    }
   ],
   "source": [
    "def test_meansort():\n",
    "    data = {'Name':['Tom', 'nick', 'krish', 'Sam'], 'Age':[5, 10, 19, 50]}\n",
    "    df = pd.DataFrame(data)\n",
    "    sortedData = main.meansort(\"Age\", df[[\"Name\", \"Age\"]])\n",
    "    assert(['Sam', 50] == sortedData[0])\n",
    "    print(\"Assertion successful\")\n",
    "\n",
    "# def test_meansort():\n",
    "#     x = main.meansort(main.cityData[\"winter low\"], df[[\"Name\", \"winter low\"]])\n",
    "#     print(x)\n",
    "test_meansort()\n",
    "# main.ci"
   ]
  },
  {
   "cell_type": "code",
   "execution_count": 8,
   "id": "407e2262",
   "metadata": {},
   "outputs": [
    {
     "name": "stdout",
     "output_type": "stream",
     "text": [
      "Identify bucket for attribut =  winter low Attribute Buckets =  ['top25%', 'middle50%', 'bottom25%'] CityRank for the attribute =  125\n",
      "Rank =  125 Unique rank count =  151 range 37.75 precent 25\n",
      "Identify bucket for attribut =  winter low Attribute Buckets =  ['top25%', 'middle50%', 'bottom25%'] CityRank for the attribute =  125\n",
      "Identify bucket for attribut =  winter low Attribute Buckets =  ['top25%', 'middle50%', 'bottom25%'] CityRank for the attribute =  125\n",
      "rank 125 endRank =  37.75 endRank =  37.75 columnRankCount 151 difference check 113.25\n",
      "Identify bucket for attribut =  population Attribute Buckets =  ['top10', 'top25%', 'middle50%', 'bottom25%'] CityRank for the attribute =  1\n",
      "Identify bucket for attribut =  population Attribute Buckets =  ['top10', 'top25%', 'middle50%', 'bottom25%'] CityRank for the attribute =  138\n",
      "Identify bucket for attribut =  population Attribute Buckets =  ['top10', 'top25%', 'middle50%', 'bottom25%'] CityRank for the attribute =  138\n",
      "Rank =  138 Unique rank count =  257 range 64.25 precent 25\n",
      "Identify bucket for attribut =  population Attribute Buckets =  ['top10', 'top25%', 'middle50%', 'bottom25%'] CityRank for the attribute =  138\n",
      "Identify bucket for attribut =  population Attribute Buckets =  ['top10', 'top25%', 'middle50%', 'bottom25%'] CityRank for the attribute =  138\n",
      "rank 138 endRank =  64.25 endRank =  64.25 columnRankCount 257 difference check 192.75\n",
      "Identify bucket for attribut =  population Attribute Buckets =  ['top10', 'top25%', 'middle50%', 'bottom25%'] CityRank for the attribute =  240\n",
      "Identify bucket for attribut =  population Attribute Buckets =  ['top10', 'top25%', 'middle50%', 'bottom25%'] CityRank for the attribute =  240\n",
      "Rank =  240 Unique rank count =  257 range 64.25 precent 25\n",
      "Identify bucket for attribut =  population Attribute Buckets =  ['top10', 'top25%', 'middle50%', 'bottom25%'] CityRank for the attribute =  240\n",
      "Identify bucket for attribut =  population Attribute Buckets =  ['top10', 'top25%', 'middle50%', 'bottom25%'] CityRank for the attribute =  240\n",
      "rank 240 endRank =  64.25 endRank =  64.25 columnRankCount 257 difference check 192.75\n",
      "Identify bucket for attribut =  air quality Attribute Buckets =  ['0-50', '51-100', '101-150', '151-200', '201-300', '301-500'] CityRank for the attribute =  100\n",
      "Identify bucket for attribut =  school_record Attribute Buckets =  ['top25%', 'middle50%', 'bottom25%'] CityRank for the attribute =  99\n",
      "Rank =  99 Unique rank count =  99 range 24.75 precent 25\n",
      "Identify bucket for attribut =  school_record Attribute Buckets =  ['top25%', 'middle50%', 'bottom25%'] CityRank for the attribute =  99\n",
      "Identify bucket for attribut =  school_record Attribute Buckets =  ['top25%', 'middle50%', 'bottom25%'] CityRank for the attribute =  99\n",
      "rank 99 endRank =  24.75 endRank =  24.75 columnRankCount 99 difference check 74.25\n",
      "Identify bucket for attribut =  school_record Attribute Buckets =  ['top25%', 'middle50%', 'bottom25%'] CityRank for the attribute =  1\n",
      "Rank =  1 Unique rank count =  99 range 24.75 precent 25\n",
      "Identify bucket for attribut =  school_record Attribute Buckets =  ['top25%', 'middle50%', 'bottom25%'] CityRank for the attribute =  1\n",
      "Identify bucket for attribut =  school_record Attribute Buckets =  ['top25%', 'middle50%', 'bottom25%'] CityRank for the attribute =  1\n",
      "rank 1 endRank =  24.75 endRank =  24.75 columnRankCount 99 difference check 74.25\n"
     ]
    }
   ],
   "source": [
    "myDict = {'air quality': ['yes', 'FALSE', 'B'], 'avg. rainfall per year (mm)': ['yes', 'N/A', 'C'], 'avg. snow per year (mm)': ['yes', 'N/A', 'C'], 'commute time (min)': ['yes', 'FALSE', 'A'], 'density': ['yes', 'N/A', 'B'], 'expend, per student': ['top', 'TRUE', 'C'], 'GDP': ['yes', 'TRUE', 'B'], 'Good&service index': ['yes', 'TRUE', 'A'], 'Grocery Index': ['yes', 'TRUE', 'A'], 'Healthcare index': ['yes', 'TRUE', 'A'], 'Housing Index': ['yes', 'TRUE', 'A'], '2019 job opportunity': ['yes', 'TRUE', 'A'], 'median age': ['bottom', 'N/A', 'C'], 'median home value': ['yes', 'FALSE', 'B'], 'median home value growth percentage': ['N/A', 'N/A', 'B'], 'median household income': ['N/A', 'TRUE', 'B'], 'population': ['yes', 'N/A', 'A'], 'population growth percentage': ['N/A', 'N/A', 'B'], 'poverty rate': ['yes', 'FALSE', 'B'], 'school_record': ['top', 'TRUE', 'C'], 'six figure household percentage': ['N/A', 'TRUE', 'C'], 'summer high': ['yes', 'N/A', 'C'], 'unemployment rate': ['bottom', 'FALSE', 'B'], 'Utilities index': ['yes', 'TRUE', 'A'], 'winter low': ['yes', 'N/A', 'C']}\n",
    "def test_fetchKey(att, bucetList, rank, myDict):\n",
    "    cityData = pd.read_csv(\"cityData.csv\")\n",
    "    res = main.fetchkey(cityData, att, bucetList, rank, myDict)\n",
    "    return res\n",
    "\n",
    "# For neutral metrix if the rank falls in the middle bucket then key returned should be empty string\n",
    "assert(test_fetchKey(\"winter low\", [\"top25%\", \"middle50%\", \"bottom25%\"], 125, myDict) == \"bottom25%\")\n",
    "assert(test_fetchKey(\"population\", [\"top10\",\"top25%\",\"middle50%\",\"bottom25%\"], 1, myDict) == \"top10\")\n",
    "assert(test_fetchKey(\"population\", [\"top10\",\"top25%\",\"middle50%\",\"bottom25%\"], 138, myDict) == \"\")\n",
    "assert(test_fetchKey(\"population\", [\"top10\",\"top25%\",\"middle50%\",\"bottom25%\"], 240, myDict) == \"bottom25%\")\n",
    "assert(test_fetchKey(\"air quality\", [\"0-50\",\"51-100\",\"101-150\",\"151-200\",\"201-300\",\"301-500\"], 100, myDict) == \"51-100\")\n",
    "assert(test_fetchKey(\"school_record\", [\"top25%\", \"middle50%\", \"bottom25%\"], 99, myDict) == \"bottom25%\")\n",
    "assert(test_fetchKey(\"school_record\", [\"top25%\", \"middle50%\", \"bottom25%\"], 1, myDict) == \"top25%\")\n",
    "\n",
    "\n",
    "\n"
   ]
  },
  {
   "cell_type": "code",
   "execution_count": 4,
   "id": "13e9e24a",
   "metadata": {},
   "outputs": [],
   "source": [
    "att = [\"winter low\", \"air quality\", \"population\"]\n",
    "bucetList = [[\"top25%\", \"middle50%\", \"bottom25%\"], [\"0-50\",\"51-100\",\"101-150\",\"151-200\",\"201-300\",\"301-500\"], [\"top10\",\"top25%\",\"middle50%\",\"bottom25%\"]]\n",
    "rank = [[125], [350], [12]]\n",
    "expected =[[\"bottom25%\"], \"301-500\", \"top10\"]"
   ]
  },
  {
   "cell_type": "code",
   "execution_count": 5,
   "id": "381954f6",
   "metadata": {},
   "outputs": [],
   "source": [
    "# myDict = {'air quality': ['yes', 'FALSE', 'B'], 'avg. rainfall per year (mm)': ['yes', 'N/A', 'C'], 'avg. snow per year (mm)': ['yes', 'N/A', 'C'], 'commute time (min)': ['yes', 'FALSE', 'A'], 'density': ['yes', 'N/A', 'B'], 'expend, per student': ['top', 'TRUE', 'C'], 'GDP': ['yes', 'TRUE', 'B'], 'Good&service index': ['yes', 'TRUE', 'A'], 'Grocery Index': ['yes', 'TRUE', 'A'], 'Healthcare index': ['yes', 'TRUE', 'A'], 'Housing Index': ['yes', 'TRUE', 'A'], '2019 job opportunity': ['yes', 'TRUE', 'A'], 'median age': ['bottom', 'N/A', 'C'], 'median home value': ['yes', 'FALSE', 'B'], 'median home value growth percentage': ['N/A', 'N/A', 'B'], 'median household income': ['N/A', 'TRUE', 'B'], 'population': ['yes', 'N/A', 'A'], 'population growth percentage': ['N/A', 'N/A', 'B'], 'poverty rate': ['yes', 'FALSE', 'B'], 'school_record': ['top', 'TRUE', 'C'], 'six figure household percentage': ['N/A', 'TRUE', 'C'], 'summer high': ['yes', 'N/A', 'C'], 'unemployment rate': ['bottom', 'FALSE', 'B'], 'Utilities index': ['yes', 'TRUE', 'A'], 'winter low': ['yes', 'N/A', 'C']}\n",
    "# def test_fetchKey():\n",
    "#     success = True\n",
    "#     cityData = pd.read_csv(\"cityData.csv\")\n",
    "# #     myDict,neutralListMap = main.createRankColumns(cityData)\n",
    "    \n",
    "    \n",
    "#     for i in range(len(att)):\n",
    "#         res = main.fetchkey(cityData, att[i], bucetList[i], rank[i], myDict)\n",
    "#         try:\n",
    "#             assert(res == expected[i])\n",
    "#         except:\n",
    "#             print(\"\\nFetchkey Test failed for index =\", i, \"attribute = \", att[i], \"buckets = \", bucetList[i], \"rank = \", rank[i], \"\\n\")\n",
    "#             print(\"Expected key = \", expected[i], \"Returned = \", res)\n",
    "#             success = False\n",
    "#             break\n",
    "#     if success:\n",
    "#         print(\"\\n\\n Test: Fetch key successful\")"
   ]
  }
 ],
 "metadata": {
  "kernelspec": {
   "display_name": "Python 3 (ipykernel)",
   "language": "python",
   "name": "python3"
  },
  "language_info": {
   "codemirror_mode": {
    "name": "ipython",
    "version": 3
   },
   "file_extension": ".py",
   "mimetype": "text/x-python",
   "name": "python",
   "nbconvert_exporter": "python",
   "pygments_lexer": "ipython3",
   "version": "3.9.7"
  }
 },
 "nbformat": 4,
 "nbformat_minor": 5
}
